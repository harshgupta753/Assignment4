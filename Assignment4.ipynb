{
 "cells": [
  {
   "cell_type": "code",
   "execution_count": 68,
   "id": "9c32d293-4aae-4b57-829a-40333f7ae07e",
   "metadata": {},
   "outputs": [],
   "source": [
    "#q1 : Create a python program to sort the given list of tuples based on integer value using a lambda function.\n",
    "#[('Sachin Tendulkar', 34357), ('Ricky Ponting', 27483), ('Jack Kallis', 25534), ('Virat Kohli', 24936)]"
   ]
  },
  {
   "cell_type": "code",
   "execution_count": 27,
   "id": "60a73e98-9d7c-4fe6-ad37-04138df2fcbe",
   "metadata": {},
   "outputs": [],
   "source": [
    "l= []"
   ]
  },
  {
   "cell_type": "code",
   "execution_count": 28,
   "id": "42f6ab97-7f51-488d-bb9a-4b62a9e67571",
   "metadata": {},
   "outputs": [],
   "source": [
    "s= [('Sachin Tendulkar', 34357), ('Ricky Ponting', 27483), ('Jack Kallis', 25534), ('Virat Kohli', 24936)]"
   ]
  },
  {
   "cell_type": "code",
   "execution_count": 52,
   "id": "9f8d5085-828a-41d0-852d-4fa445f50b77",
   "metadata": {},
   "outputs": [
    {
     "data": {
      "text/plain": [
       "[34357, 27483, 25534, 24936]"
      ]
     },
     "execution_count": 52,
     "metadata": {},
     "output_type": "execute_result"
    }
   ],
   "source": [
    "list(map(lambda l : l[1], s))"
   ]
  },
  {
   "cell_type": "code",
   "execution_count": 63,
   "id": "1e4f106c-f868-4b1f-b390-ecd84873b915",
   "metadata": {},
   "outputs": [],
   "source": [
    "#q2 : Write a Python Program to find the squares of all the numbers in the given list of integers using lambda and map functions.\n",
    "#[1, 2, 3, 4, 5, 6, 7, 8, 9, 10]"
   ]
  },
  {
   "cell_type": "code",
   "execution_count": 64,
   "id": "7e9f0246-3690-4180-9284-040d2e93224f",
   "metadata": {},
   "outputs": [],
   "source": [
    "l = [1,2,3,4,5,6,7,8,9,10]"
   ]
  },
  {
   "cell_type": "code",
   "execution_count": 65,
   "id": "7ef9b7c8-443f-4051-98af-3d0a86018ce3",
   "metadata": {},
   "outputs": [
    {
     "data": {
      "text/plain": [
       "[1, 4, 9, 16, 25, 36, 49, 64, 81, 100]"
      ]
     },
     "execution_count": 65,
     "metadata": {},
     "output_type": "execute_result"
    }
   ],
   "source": [
    "list(map(lambda x : x**2, l))"
   ]
  },
  {
   "cell_type": "code",
   "execution_count": 69,
   "id": "eb984b97-1922-4505-99bd-b781d5d673e8",
   "metadata": {},
   "outputs": [],
   "source": [
    "#q3 : Q3. Write a python program to convert the given list of integers into a tuple of strings. Use map andlambda functions\n",
    "#Given String: [1, 2, 3, 4, 5, 6, 7, 8, 9, 10]\n",
    "#Expected output: ('1', '2', '3', '4', '5', '6', '7', '8', '9', '10')"
   ]
  },
  {
   "cell_type": "code",
   "execution_count": 70,
   "id": "e208fc51-bb34-42fd-ba44-1df01ca01860",
   "metadata": {},
   "outputs": [],
   "source": [
    "l1 = [1, 2, 3, 4, 5, 6, 7, 8, 9, 10]"
   ]
  },
  {
   "cell_type": "code",
   "execution_count": 71,
   "id": "5d3ae8a7-9727-41b7-9dca-7343a5b2a49c",
   "metadata": {},
   "outputs": [
    {
     "data": {
      "text/plain": [
       "('1', '2', '3', '4', '5', '6', '7', '8', '9', '10')"
      ]
     },
     "execution_count": 71,
     "metadata": {},
     "output_type": "execute_result"
    }
   ],
   "source": [
    "tuple(map(lambda s : str(s), l1))"
   ]
  },
  {
   "cell_type": "code",
   "execution_count": 72,
   "id": "af3aeda9-e591-48c7-b1ee-56fa6c292286",
   "metadata": {},
   "outputs": [],
   "source": [
    "#q4 : Write a python program using reduce function to compute the product of a list containing numbers from 1 to 25."
   ]
  },
  {
   "cell_type": "code",
   "execution_count": 88,
   "id": "b963e3eb-9a57-4946-9cd3-352ceb7930a1",
   "metadata": {},
   "outputs": [],
   "source": [
    "l2 = [1,2,3,4,5,6,7,8,9,10,11,12,13,14,15,16,17,18,19,20,21,22,23,24,25]"
   ]
  },
  {
   "cell_type": "code",
   "execution_count": 89,
   "id": "b7a12a52-fb11-48e3-a9c7-05f870282f06",
   "metadata": {},
   "outputs": [
    {
     "data": {
      "text/plain": [
       "[1,\n",
       " 2,\n",
       " 3,\n",
       " 4,\n",
       " 5,\n",
       " 6,\n",
       " 7,\n",
       " 8,\n",
       " 9,\n",
       " 10,\n",
       " 11,\n",
       " 12,\n",
       " 13,\n",
       " 14,\n",
       " 15,\n",
       " 16,\n",
       " 17,\n",
       " 18,\n",
       " 19,\n",
       " 20,\n",
       " 21,\n",
       " 22,\n",
       " 23,\n",
       " 24,\n",
       " 25]"
      ]
     },
     "execution_count": 89,
     "metadata": {},
     "output_type": "execute_result"
    }
   ],
   "source": [
    "l2"
   ]
  },
  {
   "cell_type": "code",
   "execution_count": 90,
   "id": "1e553e95-f434-469d-908e-75052f79e3aa",
   "metadata": {},
   "outputs": [],
   "source": [
    "from functools import reduce"
   ]
  },
  {
   "cell_type": "code",
   "execution_count": 91,
   "id": "a984f618-0f50-44b3-8166-4e06f44e5fbd",
   "metadata": {},
   "outputs": [
    {
     "data": {
      "text/plain": [
       "15511210043330985984000000"
      ]
     },
     "execution_count": 91,
     "metadata": {},
     "output_type": "execute_result"
    }
   ],
   "source": [
    "reduce(lambda x,y: x*y, l2)"
   ]
  },
  {
   "cell_type": "code",
   "execution_count": 92,
   "id": "4de7240a-22f4-4188-b75d-52929f486667",
   "metadata": {},
   "outputs": [],
   "source": [
    "#q5 : Write a python program to filter the numbers in a given list that are divisible by 2 and 3 using the filter function.\n",
    "#[2, 3, 6, 9, 27, 60, 90, 120, 55, 46]"
   ]
  },
  {
   "cell_type": "code",
   "execution_count": 93,
   "id": "d3794b40-17bc-46a4-8e68-a23b0b4a9f9b",
   "metadata": {},
   "outputs": [],
   "source": [
    "l3 = [2, 3, 6, 9, 27, 60, 90, 120, 55, 46]"
   ]
  },
  {
   "cell_type": "code",
   "execution_count": 94,
   "id": "501e8073-401d-4839-9ff3-5cd6720999af",
   "metadata": {},
   "outputs": [
    {
     "data": {
      "text/plain": [
       "[2, 3, 6, 9, 27, 60, 90, 120, 46]"
      ]
     },
     "execution_count": 94,
     "metadata": {},
     "output_type": "execute_result"
    }
   ],
   "source": [
    "list(filter(lambda x : x%2== 0 or x % 3== 0, l3))"
   ]
  },
  {
   "cell_type": "code",
   "execution_count": 95,
   "id": "6d869354-5bf8-4d38-b030-60daad0767bf",
   "metadata": {},
   "outputs": [],
   "source": [
    "#q6 : Write a python program to find palindromes in the given list of strings using lambda and filter function.\n",
    "#['python', 'php', 'aba', 'radar', 'level']"
   ]
  },
  {
   "cell_type": "code",
   "execution_count": 96,
   "id": "4303233f-f0d1-4ab8-a111-a14e72cfdbbf",
   "metadata": {},
   "outputs": [],
   "source": [
    "l4 = ['python', 'php', 'aba', 'radar', 'level']"
   ]
  },
  {
   "cell_type": "code",
   "execution_count": 98,
   "id": "cead4e96-1756-44ad-965f-5338d365378c",
   "metadata": {},
   "outputs": [
    {
     "data": {
      "text/plain": [
       "['php', 'aba', 'radar', 'level']"
      ]
     },
     "execution_count": 98,
     "metadata": {},
     "output_type": "execute_result"
    }
   ],
   "source": [
    "list(filter(lambda x : x == x[::-1], l4))"
   ]
  },
  {
   "cell_type": "code",
   "execution_count": null,
   "id": "bad66895-dd03-4c7a-bc81-492b09d07784",
   "metadata": {},
   "outputs": [],
   "source": []
  }
 ],
 "metadata": {
  "kernelspec": {
   "display_name": "Python 3 (ipykernel)",
   "language": "python",
   "name": "python3"
  },
  "language_info": {
   "codemirror_mode": {
    "name": "ipython",
    "version": 3
   },
   "file_extension": ".py",
   "mimetype": "text/x-python",
   "name": "python",
   "nbconvert_exporter": "python",
   "pygments_lexer": "ipython3",
   "version": "3.10.8"
  }
 },
 "nbformat": 4,
 "nbformat_minor": 5
}
